{
 "cells": [
  {
   "cell_type": "code",
   "execution_count": null,
   "id": "e64aa3f7-2a54-4050-8584-1f12628e5931",
   "metadata": {},
   "outputs": [],
   "source": [
    "Задача 1: Числа Фибоначчи с помощью рекурсии"
   ]
  },
  {
   "cell_type": "code",
   "execution_count": null,
   "id": "e385be42-3d8d-4fd5-bb49-fd12962e2411",
   "metadata": {},
   "outputs": [],
   "source": [
    "%%time\n",
    "n = int(input())\n",
    "def fib_recursive(n):\n",
    "    if n <= 1:\n",
    "        return n\n",
    "    else:\n",
    "        return fib_recursive(n - 1) + fib_recursive(n - 2)\n",
    "print(fib_recursive(n))"
   ]
  },
  {
   "cell_type": "code",
   "execution_count": null,
   "id": "6bb797dc-5c67-463c-b20f-ec154b845f2a",
   "metadata": {},
   "outputs": [],
   "source": [
    "Задача 2: Линейный метод (итеративный)"
   ]
  },
  {
   "cell_type": "code",
   "execution_count": null,
   "id": "fbc0e70b-5ebf-4ac2-b8d0-8ff3a38a8bf2",
   "metadata": {},
   "outputs": [],
   "source": [
    "%%time\n",
    "n = int(input())\n",
    "def fib_iterative(n):\n",
    "    a, b = 0, 1\n",
    "    for _ in range(n):\n",
    "        a, b = b, a + b\n",
    "    return a\n",
    "print(fib_iterative(n))"
   ]
  },
  {
   "cell_type": "code",
   "execution_count": null,
   "id": "5676ebb6-17b4-4710-9a96-31e255c245ae",
   "metadata": {},
   "outputs": [],
   "source": [
    "Задача 3: Вычисление чисел Фибоначчи с помощью матричного представления"
   ]
  },
  {
   "cell_type": "code",
   "execution_count": null,
   "id": "ad698906-d99c-461f-b9e9-fc5a41650f7f",
   "metadata": {},
   "outputs": [],
   "source": [
    "%%time\n",
    "n = int(input())\n",
    "def multiply_matrices(A, B):\n",
    "    result = [\n",
    "        [0, 0],\n",
    "        [0, 0]\n",
    "    ]\n",
    "    result[0][0] = A[0][0]*B[0][0] + A[0][1]*B[1][0]\n",
    "    result[0][1] = A[0][0]*B[0][1] + A[0][1]*B[1][1]\n",
    "    result[1][0] = A[1][0]*B[0][0] + A[1][1]*B[1][0]\n",
    "    result[1][1] = A[1][0]*B[0][1] + A[1][1]*B[1][1]\n",
    "    return result\n",
    "\n",
    "def matrix_power(M, p):\n",
    "    if p == 1:\n",
    "        return M\n",
    "    if p % 2 == 0:\n",
    "        power = matrix_power(M, p // 2)\n",
    "        return multiply_matrices(power, power)\n",
    "    else:\n",
    "        minus_power = matrix_power(M, p - 1)\n",
    "        return multiply_matrices(M, minus_power)\n",
    "\n",
    "def fib_matrix(n):\n",
    "    if n == 0:\n",
    "        return 0\n",
    "    M = [[1, 1],\n",
    "         [1, 0]]\n",
    "    M_power = matrix_power(M, n - 1)\n",
    "    return M_power[0][0]\n",
    "print(fib_matrix(n))"
   ]
  },
  {
   "cell_type": "code",
   "execution_count": null,
   "id": "f77dfb7e-cd7a-46ea-94a6-e0176a638082",
   "metadata": {},
   "outputs": [],
   "source": [
    "Полный код"
   ]
  },
  {
   "cell_type": "code",
   "execution_count": null,
   "id": "ca927b8b-a193-44c8-b504-bec6aa97526e",
   "metadata": {},
   "outputs": [],
   "source": [
    "n = int(input())\n",
    "\n",
    "def fib_recursive(n):\n",
    "    if n <= 1:\n",
    "        return n\n",
    "    else:\n",
    "        return fib_recursive(n - 1) + fib_recursive(n - 2)\n",
    "        \n",
    "\n",
    "def fib_iterative(n):\n",
    "    a, b = 0, 1\n",
    "    for _ in range(n):\n",
    "        a, b = b, a + b\n",
    "    return a\n",
    "\n",
    "\n",
    "def multiply_matrices(A, B):\n",
    "    result = [\n",
    "        [0, 0],\n",
    "        [0, 0]\n",
    "    ]\n",
    "    result[0][0] = A[0][0]*B[0][0] + A[0][1]*B[1][0]\n",
    "    result[0][1] = A[0][0]*B[0][1] + A[0][1]*B[1][1]\n",
    "    result[1][0] = A[1][0]*B[0][0] + A[1][1]*B[1][0]\n",
    "    result[1][1] = A[1][0]*B[0][1] + A[1][1]*B[1][1]\n",
    "    return result\n",
    "\n",
    "def matrix_power(M, p):\n",
    "    if p == 1:\n",
    "        return M\n",
    "    if p % 2 == 0:\n",
    "        power = matrix_power(M, p // 2)\n",
    "        return multiply_matrices(power, power)\n",
    "    else:\n",
    "        minus_power = matrix_power(M, p - 1)\n",
    "        return multiply_matrices(M, minus_power)\n",
    "\n",
    "def fib_matrix(n):\n",
    "    if n == 0:\n",
    "        return 0\n",
    "    M = [[1, 1],\n",
    "         [1, 0]]\n",
    "    M_power = matrix_power(M, n - 1)\n",
    "    return M_power[0][0]\n",
    "\n",
    "\n",
    "print(\"Рекурсивный метод:\", fib_recursive(n))       \n",
    "print(\"Итеративный метод:\", fib_iterative(n))       \n",
    "print(\"Матричный метод:\", fib_matrix(n))   "
   ]
  },
  {
   "cell_type": "code",
   "execution_count": null,
   "id": "8d0bcfa5-9742-4e06-8c6b-1ae51e149cef",
   "metadata": {},
   "outputs": [],
   "source": []
  }
 ],
 "metadata": {
  "kernelspec": {
   "display_name": "Python 3 (ipykernel)",
   "language": "python",
   "name": "python3"
  },
  "language_info": {
   "codemirror_mode": {
    "name": "ipython",
    "version": 3
   },
   "file_extension": ".py",
   "mimetype": "text/x-python",
   "name": "python",
   "nbconvert_exporter": "python",
   "pygments_lexer": "ipython3",
   "version": "3.12.4"
  }
 },
 "nbformat": 4,
 "nbformat_minor": 5
}
