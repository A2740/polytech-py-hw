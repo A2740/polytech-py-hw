{
 "cells": [
  {
   "cell_type": "code",
   "execution_count": 67,
   "id": "466e4add-c693-44cb-9098-b642a7c11c1a",
   "metadata": {},
   "outputs": [],
   "source": [
    "import random\n",
    "\n",
    "mean = 0.0\n",
    "stddev = 0.1\n",
    "random.gauss(mean, stddev)\n",
    "\n",
    "def generate_normal_weights_matrix(rows, cols, mean=0.0, stddev=0.1):\n",
    "    weights_matrix = []\n",
    "    for _ in range(rows):\n",
    "        row = [random.gauss(mean, stddev) for _ in range(cols)]\n",
    "        weights_matrix.append(row)\n",
    "    return weights_matrix\n",
    "\n",
    "weights_matrix = generate_normal_weights_matrix(1000, 1000, mean, stddev)\n",
    "weights = [weight for row in weights_matrix for weight in row]"
   ]
  },
  {
   "cell_type": "code",
   "execution_count": 68,
   "id": "b4a7b92c-fe8d-4793-be29-13ba2c90fa12",
   "metadata": {},
   "outputs": [],
   "source": [
    "def quantize_weights(weights, max_error):\n",
    "    min_value = min(weights)\n",
    "    max_value = max(weights)\n",
    "    step = 2 * max_error\n",
    "    quantized_weights = [round((weight - min_value) / step) for weight in weights]\n",
    "    return quantized_weights, step, min_value\n",
    "\n",
    "def dequantize_weights(quantized_weights, step, min_value):\n",
    "    recovered_weights = [quantized_weight * step + min_value for quantized_weight in quantized_weights]\n",
    "    return recovered_weights\n",
    "    \n",
    "max_error = 0.01\n",
    "quantized_weights, step, min_value = quantize_weights(weights, max_error)\n",
    "recovered_weights = dequantize_weights(quantized_weights, step, min_value)"
   ]
  },
  {
   "cell_type": "code",
   "execution_count": 69,
   "id": "11ef9db2-68b8-40f2-8e76-29de22ca0751",
   "metadata": {},
   "outputs": [
    {
     "name": "stdout",
     "output_type": "stream",
     "text": [
      "Закодированные данные: 01101001110011110110100\n",
      "Декодированные данные: ['A', 'B', 'R', 'A', 'C', 'A', 'D', 'A', 'B', 'R', 'A']\n"
     ]
    }
   ],
   "source": [
    "import heapq\n",
    "\n",
    "def huffman_encode(weights):\n",
    "    from collections import Counter\n",
    "    freq = Counter(weights)\n",
    "    heap = [[weight, [symbol, '']] for symbol, weight in freq.items()]\n",
    "    heapq.heapify(heap)\n",
    "    while len(heap) > 1:\n",
    "        l = heapq.heappop(heap)\n",
    "        h = heapq.heappop(heap)\n",
    "        for pair in l[1:]:\n",
    "            pair[1] = '0' + pair[1]\n",
    "        for pair in h[1:]:\n",
    "            pair[1] = '1' + pair[1]\n",
    "        newNode = [l[0] + h[0]] + l[1:] + h[1:]\n",
    "        heapq.heappush(heap, newNode)\n",
    "    huff_dict = {}\n",
    "    if heap:\n",
    "        heap = heapq.heappop(heap)\n",
    "        for symbol_info in heap[1:]:\n",
    "            huff_dict[symbol_info[0]] = symbol_info[1]\n",
    "    else:\n",
    "        huff_dict[heap[0][1][0]] = '0'\n",
    "    encoded_data = ''.join([huff_dict[symbol] for symbol in weights])\n",
    "    return encoded_data, huff_dict\n",
    "    \n",
    "def huffman_decode(encoded_data, huff_dict):\n",
    "    inverse_dict = {v: k for k, v in huff_dict.items()}\n",
    "    decoded_weights = []\n",
    "    code = ''\n",
    "    for bit in encoded_data:\n",
    "        code += bit\n",
    "        if code in inverse_dict:\n",
    "            decoded_weights.append(inverse_dict[code])\n",
    "            code = ''\n",
    "    return decoded_weights\n",
    "\n",
    "data = \"ABRACADABRA\"\n",
    "encoded_data, huff_dict = huffman_encode(data)\n",
    "print(f\"Закодированные данные: {encoded_data}\")\n",
    "# Закодированные данные: 01101001110011110110100\n",
    "\n",
    "decoded_data = huffman_decode(encoded_data, huff_dict)\n",
    "print(f\"Декодированные данные: {decoded_data}\")\n",
    "# Декодированные данные: ABRACADABRA\n",
    " \n",
    "encoded_data, huffman_dict = huffman_encode(quantized_weights)"
   ]
  },
  {
   "cell_type": "code",
   "execution_count": 70,
   "id": "61b58637-d9bf-4dcd-b931-03636138956b",
   "metadata": {},
   "outputs": [],
   "source": [
    "def bit_packing(bit_string):\n",
    "    padding_length = (8 - len(bit_string) % 8) % 8\n",
    "    bit_string_padded = bit_string + '0' * padding_length\n",
    "    bytes_list = []\n",
    "    for i in range(0, len(bit_string_padded), 8):\n",
    "        byte = bit_string_padded[i:i+8]\n",
    "        bytes_list.append(int(byte, 2))\n",
    "    packed_data = bytes(bytes_list)\n",
    "    return packed_data, padding_length\n",
    "\n",
    "def bit_unpacking(packed_data, padding_length):\n",
    "    bit_string = ''\n",
    "    for byte in packed_data:\n",
    "        bits = bin(byte)[2:].zfill(8)\n",
    "        bit_string += bits\n",
    "    if padding_length > 0:\n",
    "        bit_string = bit_string[:-padding_length]\n",
    "    return bit_string\n",
    "\n",
    "packed_data, padding_length = bit_packing(encoded_data)"
   ]
  },
  {
   "cell_type": "code",
   "execution_count": 71,
   "id": "22d86fef-e037-4acd-9ce6-4f622b061cbc",
   "metadata": {},
   "outputs": [],
   "source": [
    "import struct \n",
    "import pickle\n",
    "\n",
    "def write_to_file(filename, packed_data, huffman_dict, step, min_value, padding_length):\n",
    "    with open(filename, 'wb') as f:\n",
    "        f.write(struct.pack('ff', step, min_value))\n",
    "        f.write(struct.pack('H', padding_length))\n",
    "        huffman_dict_serialized = pickle.dumps(huffman_dict)\n",
    "        huff_dict_length = len(huffman_dict_serialized)\n",
    "        f.write(struct.pack('I', huff_dict_length))\n",
    "        f.write(huffman_dict_serialized)\n",
    "        packed_data_length = len(packed_data)\n",
    "        f.write(struct.pack('I', packed_data_length))\n",
    "        f.write(packed_data)\n",
    "\n",
    "compressed_filename = 'compressed_data.bin'\n",
    "write_to_file(compressed_filename, packed_data, huffman_dict, step, min_value, padding_length)"
   ]
  },
  {
   "cell_type": "code",
   "execution_count": 72,
   "id": "223666e7-0c38-4c30-9588-dcf3c14edc84",
   "metadata": {},
   "outputs": [],
   "source": [
    "def read_from_file(filename):\n",
    "    with open(filename, 'rb') as f:\n",
    "        step, min_value = struct.unpack('ff', f.read(8))\n",
    "        padding_length = struct.unpack('H', f.read(2))[0]\n",
    "        huff_dict_length = struct.unpack('I', f.read(4))[0]\n",
    "        huffman_dict_serialized = f.read(huff_dict_length)\n",
    "        huffman_dict = pickle.loads(huffman_dict_serialized)\n",
    "        packed_data_length = struct.unpack('I', f.read(4))[0]\n",
    "        packed_data = f.read(packed_data_length)\n",
    "    return packed_data, huffman_dict, step, min_value, padding_length\n",
    "\n",
    "packed_data_read, huffman_dict_read, step_read, min_value_read, padding_length_read = read_from_file(compressed_filename)\n",
    "unpacked_bits = bit_unpacking(packed_data_read, padding_length_read)\n",
    "decoded_weights = huffman_decode(unpacked_bits, huffman_dict_read)\n",
    "decoded_weights = [int(w) for w in decoded_weights]\n",
    "recovered_weights = dequantize_weights(decoded_weights, step_read, min_value_read)"
   ]
  },
  {
   "cell_type": "code",
   "execution_count": 73,
   "id": "b35a96c9-8631-4cac-845b-f4480c722d8a",
   "metadata": {},
   "outputs": [
    {
     "name": "stdout",
     "output_type": "stream",
     "text": [
      "Максимальная разница после восстановления: 0.009999999715547894\n"
     ]
    }
   ],
   "source": [
    "max_difference = max([abs(w - rw) for w, rw in zip(weights, recovered_weights)])\n",
    "print(f\"Максимальная разница после восстановления: {max_difference}\")"
   ]
  },
  {
   "cell_type": "code",
   "execution_count": 74,
   "id": "012085a6-5665-4fec-8dc8-789ba4ffc8f3",
   "metadata": {},
   "outputs": [
    {
     "name": "stdout",
     "output_type": "stream",
     "text": [
      "Размер файла в мегабайтах 0.5255765914916992\n"
     ]
    },
    {
     "ename": "FileNotFoundError",
     "evalue": "[WinError 2] Не удается найти указанный файл: 'original_data.bin'",
     "output_type": "error",
     "traceback": [
      "\u001b[1;31m---------------------------------------------------------------------------\u001b[0m",
      "\u001b[1;31mFileNotFoundError\u001b[0m                         Traceback (most recent call last)",
      "Cell \u001b[1;32mIn[74], line 15\u001b[0m\n\u001b[0;32m     12\u001b[0m         packed_data \u001b[38;5;241m=\u001b[39m struct\u001b[38;5;241m.\u001b[39mpack(\u001b[38;5;124m'\u001b[39m\u001b[38;5;124mf\u001b[39m\u001b[38;5;124m'\u001b[39m, number)\n\u001b[0;32m     13\u001b[0m         f\u001b[38;5;241m.\u001b[39mwrite(packed_data)\n\u001b[1;32m---> 15\u001b[0m file_stats \u001b[38;5;241m=\u001b[39m os\u001b[38;5;241m.\u001b[39mstat(original_filename)\n\u001b[0;32m     16\u001b[0m \u001b[38;5;28mprint\u001b[39m(\u001b[38;5;124mf\u001b[39m\u001b[38;5;124m'\u001b[39m\u001b[38;5;124mРазмер файла в мегабайтах \u001b[39m\u001b[38;5;132;01m{\u001b[39;00mget_size(original_filename)\u001b[38;5;132;01m}\u001b[39;00m\u001b[38;5;124m'\u001b[39m)\n",
      "\u001b[1;31mFileNotFoundError\u001b[0m: [WinError 2] Не удается найти указанный файл: 'original_data.bin'"
     ]
    }
   ],
   "source": [
    "def get_size(filename):\n",
    "    return os.stat(filename).st_size / (1024 * 1024)\n",
    "\n",
    "import os\n",
    "print(f'Размер файла в мегабайтах {get_size(compressed_filename)}')\n",
    "\n",
    "import struct\n",
    "original_filename = 'original_data.bin'\n",
    "\n",
    "with open(compressed_filename, 'wb') as f:\n",
    "    for number in weights:\n",
    "        packed_data = struct.pack('f', number)\n",
    "        f.write(packed_data)\n",
    "\n",
    "file_stats = os.stat(original_filename)\n",
    "print(f'Размер файла в мегабайтах {get_size(original_filename)}')"
   ]
  },
  {
   "cell_type": "code",
   "execution_count": null,
   "id": "2d1f0a3e-83c7-427e-91ea-676745f3120c",
   "metadata": {},
   "outputs": [],
   "source": []
  }
 ],
 "metadata": {
  "kernelspec": {
   "display_name": "Python 3 (ipykernel)",
   "language": "python",
   "name": "python3"
  },
  "language_info": {
   "codemirror_mode": {
    "name": "ipython",
    "version": 3
   },
   "file_extension": ".py",
   "mimetype": "text/x-python",
   "name": "python",
   "nbconvert_exporter": "python",
   "pygments_lexer": "ipython3",
   "version": "3.12.7"
  }
 },
 "nbformat": 4,
 "nbformat_minor": 5
}
